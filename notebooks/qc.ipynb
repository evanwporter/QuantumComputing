{
 "cells": [
  {
   "cell_type": "code",
   "execution_count": 1,
   "id": "95ce9601-7889-425d-bf2f-104541573689",
   "metadata": {},
   "outputs": [],
   "source": [
    "import sys\n",
    "import os\n",
    "sys.path.insert(0, os.path.abspath('../src'))\n",
    "\n",
    "from QuantumCircuit import QuantumCircuit\n",
    "import numpy as np"
   ]
  },
  {
   "cell_type": "code",
   "execution_count": null,
   "id": "472aebd0-649b-4498-920d-50a0a19f048d",
   "metadata": {},
   "outputs": [],
   "source": [
    "qc = QuantumCircuit(1)\n",
    "# qc.h(0)\n",
    "qc.x(0)\n",
    "qc.rx(np.pi/4, 0)\n",
    "qc.rz(np.pi/2, 0)\n",
    "qc.execute()\n",
    "qc.bloch(3)"
   ]
  },
  {
   "cell_type": "code",
   "execution_count": null,
   "id": "1bb502aa-fe8e-413b-821f-d8551a8b4799",
   "metadata": {},
   "outputs": [],
   "source": [
    "# Directly from ../tests/qc_tests.py\n",
    "qc = QuantumCircuit(2)\n",
    "qc.x(1)\n",
    "qc.h([0, 1])\n",
    "balanced_f = np.array([[1, 0, 0, 0],\n",
    "                       [0, 1, 0, 0],\n",
    "                       [0, 0, 0, 1],\n",
    "                       [0, 0, 1, 0]], dtype=complex)\n",
    "\n",
    "qc.add_layer(balanced_f, -1)\n",
    "qc.h([0, 1])\n",
    "qc.execute()\n",
    "probabilities = qc.measure_combined_probabilities(qc.state, 1)\n",
    "assert np.isclose(probabilities[0], 1), f\"Probabilities mismatch: {probabilities}\""
   ]
  },
  {
   "cell_type": "code",
   "execution_count": null,
   "id": "0ccce8c8-49c1-4689-8ec1-05fee011f730",
   "metadata": {},
   "outputs": [],
   "source": [
    "qc = QuantumCircuit(3)\n",
    "qc.cz(0,1)\n",
    "qc._gate_queue[0]"
   ]
  },
  {
   "cell_type": "code",
   "execution_count": null,
   "id": "02f621e6-4550-46b7-b3c3-3a09f6ffb53a",
   "metadata": {},
   "outputs": [],
   "source": [
    "num_qubits = 2  # Example with 3 qubits\n",
    "gc = QuantumCircuit(num_qubits)\n",
    "\n",
    "# Superimpose all qubits with H-gate\n",
    "gc.h([0,1])\n",
    "\n",
    "# Oracle\n",
    "gc.cz(0,1)\n",
    "\n",
    "# Diffuser \n",
    "gc.h([0,1]).z([0,1]).cz(0,1).h([0,1])\n",
    "\n",
    "gc.execute()\n",
    "\n",
    "# Display the results\n",
    "for i, state in enumerate(gc.state_history):\n",
    "    print(f\"Step {i + 1}: {state}\")\n",
    "\n",
    "print(\"Final state vector:\", gc.state)\n",
    "print(\"Measured probabilities:\", gc.measure())"
   ]
  },
  {
   "cell_type": "code",
   "execution_count": 2,
   "id": "79740cdf-ea2f-4ead-af82-99bdb9104a21",
   "metadata": {},
   "outputs": [],
   "source": [
    "# Oracle\n",
    "qc = QuantumCircuit(3)\n",
    "qc.cz(0, 2)\n",
    "qc.cz(1, 2)\n",
    "oracle = qc.to_gate()"
   ]
  },
  {
   "cell_type": "code",
   "execution_count": null,
   "id": "da7c72c5-1e38-449a-bfcb-b6c029277d0c",
   "metadata": {},
   "outputs": [],
   "source": [
    "# Diffuser\n",
    "qc = QuantumCircuit(3)\n",
    "qc.h([0, 1, 2])\n",
    "qc.x([0, 1, 2])"
   ]
  }
 ],
 "metadata": {
  "kernelspec": {
   "display_name": "Python 3 (ipykernel)",
   "language": "python",
   "name": "python3"
  },
  "language_info": {
   "codemirror_mode": {
    "name": "ipython",
    "version": 3
   },
   "file_extension": ".py",
   "mimetype": "text/x-python",
   "name": "python",
   "nbconvert_exporter": "python",
   "pygments_lexer": "ipython3",
   "version": "3.12.3"
  }
 },
 "nbformat": 4,
 "nbformat_minor": 5
}
