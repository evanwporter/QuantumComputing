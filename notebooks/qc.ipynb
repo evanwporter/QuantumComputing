{
 "cells": [
  {
   "cell_type": "code",
   "execution_count": 7,
   "id": "95ce9601-7889-425d-bf2f-104541573689",
   "metadata": {},
   "outputs": [],
   "source": [
    "import sys\n",
    "import os\n",
    "sys.path.insert(0, os.path.abspath('../src'))\n",
    "\n",
    "from QuantumCircuit import QuantumCircuit"
   ]
  },
  {
   "cell_type": "code",
   "execution_count": 16,
   "id": "472aebd0-649b-4498-920d-50a0a19f048d",
   "metadata": {},
   "outputs": [
    {
     "ename": "AttributeError",
     "evalue": "'NoneType' object has no attribute 'execute'",
     "output_type": "error",
     "traceback": [
      "\u001b[1;31m---------------------------------------------------------------------------\u001b[0m",
      "\u001b[1;31mAttributeError\u001b[0m                            Traceback (most recent call last)",
      "Cell \u001b[1;32mIn[16], line 2\u001b[0m\n\u001b[0;32m      1\u001b[0m qc \u001b[38;5;241m=\u001b[39m QuantumCircuit(\u001b[38;5;241m1\u001b[39m)\n\u001b[1;32m----> 2\u001b[0m qc\u001b[38;5;241m.\u001b[39mh(\u001b[38;5;241m0\u001b[39m)\u001b[38;5;241m.\u001b[39mexecute()\n\u001b[0;32m      3\u001b[0m qc\u001b[38;5;241m.\u001b[39mbloch()\n",
      "\u001b[1;31mAttributeError\u001b[0m: 'NoneType' object has no attribute 'execute'"
     ]
    }
   ],
   "source": [
    "qc = QuantumCircuit(1)\n",
    "qc.h(0).execute()\n",
    "qc.bloch()"
   ]
  },
  {
   "cell_type": "code",
   "execution_count": null,
   "id": "1bb502aa-fe8e-413b-821f-d8551a8b4799",
   "metadata": {},
   "outputs": [],
   "source": []
  }
 ],
 "metadata": {
  "kernelspec": {
   "display_name": "Python 3 (ipykernel)",
   "language": "python",
   "name": "python3"
  },
  "language_info": {
   "codemirror_mode": {
    "name": "ipython",
    "version": 3
   },
   "file_extension": ".py",
   "mimetype": "text/x-python",
   "name": "python",
   "nbconvert_exporter": "python",
   "pygments_lexer": "ipython3",
   "version": "3.12.3"
  }
 },
 "nbformat": 4,
 "nbformat_minor": 5
}
